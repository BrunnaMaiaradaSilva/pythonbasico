{
 "cells": [
  {
   "cell_type": "code",
   "execution_count": 7,
   "metadata": {},
   "outputs": [
    {
     "name": "stdout",
     "output_type": "stream",
     "text": [
      "O valor de x * y é: 1\n",
      "O valor de x * y é: 6\n",
      "O valor de x * y é: 15\n",
      "O valor de x * y é: 28\n",
      "O valor de x * y é: 45\n",
      "O valor de x * y é: 66\n",
      "O valor de x * y é: 91\n",
      "O valor de x * y é: 120\n",
      "O valor de x * y é: 153\n",
      "O valor de x * y é: 190\n"
     ]
    }
   ],
   "source": [
    "x = 1\n",
    "y = 1\n",
    "while (x < 10 and y < 20):\n",
    "    print('O valor de x * y é:', x * y)\n",
    "    x += 1\n",
    "    y += 2\n",
    "else:\n",
    "    print('O valor de x * y é:', x * y)"
   ]
  },
  {
   "cell_type": "code",
   "execution_count": 9,
   "metadata": {},
   "outputs": [
    {
     "name": "stdout",
     "output_type": "stream",
     "text": [
      "[1, 2, 3, 4, 5, 6, 7, 8, 9, 10]\n"
     ]
    }
   ],
   "source": [
    "x = 1\n",
    "lista = []\n",
    "\n",
    "while True:\n",
    "    lista += [x]\n",
    "    x += 1\n",
    "    if x > 10:\n",
    "        break\n",
    "print(lista)\n",
    "    "
   ]
  },
  {
   "cell_type": "code",
   "execution_count": 2,
   "metadata": {},
   "outputs": [],
   "source": [
    "ate = 50\n",
    "x = 0"
   ]
  },
  {
   "cell_type": "code",
   "execution_count": 3,
   "metadata": {},
   "outputs": [
    {
     "name": "stdout",
     "output_type": "stream",
     "text": [
      "2 é par\n",
      "4 é par\n",
      "6 é par\n",
      "8 é par\n",
      "10 é par\n",
      "12 é par\n",
      "14 é par\n",
      "16 é par\n",
      "18 é par\n",
      "20 é par\n",
      "22 é par\n",
      "24 é par\n",
      "26 é par\n",
      "28 é par\n",
      "30 é par\n",
      "32 é par\n",
      "34 é par\n",
      "36 é par\n",
      "38 é par\n",
      "40 é par\n",
      "42 é par\n",
      "44 é par\n",
      "46 é par\n",
      "48 é par\n",
      "50 é par\n"
     ]
    }
   ],
   "source": [
    "while x < ate:\n",
    "    x += 1\n",
    "    if x % 2 == 1:\n",
    "        continue\n",
    "    if x % 2 == 0:\n",
    "        print(x,'é par')"
   ]
  }
 ],
 "metadata": {
  "kernelspec": {
   "display_name": "Python 3",
   "language": "python",
   "name": "python3"
  }
 },
 "nbformat": 4,
 "nbformat_minor": 2
}
