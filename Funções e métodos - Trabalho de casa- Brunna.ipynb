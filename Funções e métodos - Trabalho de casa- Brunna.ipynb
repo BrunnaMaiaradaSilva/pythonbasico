{
 "cells": [
  {
   "cell_type": "code",
   "execution_count": 1,
   "metadata": {},
   "outputs": [
    {
     "data": {
      "text/plain": [
       "(4.0, 1750)"
      ]
     },
     "execution_count": 1,
     "metadata": {},
     "output_type": "execute_result"
    }
   ],
   "source": [
    "def vol(rad):\n",
    "    volume = (4/3) * 3,14 * (rad **3)\n",
    "    return volume\n",
    "\n",
    "vol(5)"
   ]
  },
  {
   "cell_type": "code",
   "execution_count": 4,
   "metadata": {},
   "outputs": [
    {
     "data": {
      "text/plain": [
       "False"
      ]
     },
     "execution_count": 4,
     "metadata": {},
     "output_type": "execute_result"
    }
   ],
   "source": [
    "def ran_check(num, low, high):\n",
    "    if num in list(range(low, high + 1)):\n",
    "        return True\n",
    "    else:\n",
    "        return False\n",
    "\n",
    "ran_check(5,0,3)"
   ]
  },
  {
   "cell_type": "code",
   "execution_count": 6,
   "metadata": {},
   "outputs": [
    {
     "name": "stdout",
     "output_type": "stream",
     "text": [
      "Há 1 caracteres maiúsculos\n",
      "Há 7 caracteres minúsculos\n"
     ]
    }
   ],
   "source": [
    "def up_low(s): \n",
    "    up = 0\n",
    "    low = 0\n",
    "    \n",
    "    for i in s:\n",
    "        if i.isupper():\n",
    "            up += 1\n",
    "        elif i.islower():\n",
    "            low += 1\n",
    "        else:\n",
    "            pass\n",
    "            \n",
    "    print('Há {} caracteres maiúsculos'.format(up))\n",
    "    print('Há {} caracteres minúsculos'.format(low))\n",
    "\n",
    "up_low('Olá, mundo!')    "
   ]
  },
  {
   "cell_type": "code",
   "execution_count": 7,
   "metadata": {},
   "outputs": [
    {
     "data": {
      "text/plain": [
       "[1, 2, 3, 4, 5]"
      ]
     },
     "execution_count": 7,
     "metadata": {},
     "output_type": "execute_result"
    }
   ],
   "source": [
    "def unique_list(l):\n",
    "    return list(set(l))\n",
    "\n",
    "unique_list([1,1,1,1,2,2,3,3,3,3,4,5])"
   ]
  },
  {
   "cell_type": "code",
   "execution_count": 10,
   "metadata": {},
   "outputs": [
    {
     "data": {
      "text/plain": [
       "-24"
      ]
     },
     "execution_count": 10,
     "metadata": {},
     "output_type": "execute_result"
    }
   ],
   "source": [
    "def mult(numbers):\n",
    "    total = 1\n",
    "    for i in numbers:\n",
    "        total*= i\n",
    "    return total\n",
    "\n",
    "mult([1, 2, 3, -4])"
   ]
  },
  {
   "cell_type": "code",
   "execution_count": 15,
   "metadata": {},
   "outputs": [
    {
     "data": {
      "text/plain": [
       "True"
      ]
     },
     "execution_count": 15,
     "metadata": {},
     "output_type": "execute_result"
    }
   ],
   "source": [
    "def palíndrome(s):\n",
    "    s = s.replace(' ', '')\n",
    "    return s == s[::-1]\n",
    "\n",
    "palíndrome('opso')\n",
    "palíndrome('kaiak')"
   ]
  },
  {
   "cell_type": "code",
   "execution_count": 18,
   "metadata": {},
   "outputs": [
    {
     "data": {
      "text/plain": [
       "True"
      ]
     },
     "execution_count": 18,
     "metadata": {},
     "output_type": "execute_result"
    }
   ],
   "source": [
    "import string\n",
    "\n",
    "def ispangram(str1, alphabet=string.ascii_lowercase):\n",
    "    num = len(alphabet)\n",
    "    count = 0\n",
    "    \n",
    "    for i in alphabet:\n",
    "        if i in str1:\n",
    "            count += 1\n",
    "            \n",
    "    return count == num\n",
    "        \n",
    "ispangram(\"The quick brown fox jumps over the lazy dog\")"
   ]
  },
  {
   "cell_type": "code",
   "execution_count": 17,
   "metadata": {},
   "outputs": [
    {
     "data": {
      "text/plain": [
       "'abcdefghijklmnopqrstuvwxyz'"
      ]
     },
     "execution_count": 17,
     "metadata": {},
     "output_type": "execute_result"
    }
   ],
   "source": [
    "string.ascii_lowercase"
   ]
  }
 ],
 "metadata": {
  "kernelspec": {
   "display_name": "Python 3",
   "language": "python",
   "name": "python3"
  },
  "language_info": {
   "codemirror_mode": {
    "name": "ipython",
    "version": 3
   },
   "file_extension": ".py",
   "mimetype": "text/x-python",
   "name": "python",
   "nbconvert_exporter": "python",
   "pygments_lexer": "ipython3",
   "version": "3.6.5"
  }
 },
 "nbformat": 4,
 "nbformat_minor": 2
}
