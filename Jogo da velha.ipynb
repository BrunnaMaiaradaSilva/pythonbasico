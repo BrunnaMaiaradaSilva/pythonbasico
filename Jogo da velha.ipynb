{
 "cells": [
  {
   "cell_type": "code",
   "execution_count": 1,
   "metadata": {},
   "outputs": [],
   "source": [
    "from IPython.display import clear_output"
   ]
  },
  {
   "cell_type": "code",
   "execution_count": null,
   "metadata": {},
   "outputs": [],
   "source": [
    "board = [' '] * 10\n",
    "game_state = True\n",
    "announce = ''\n",
    "\n",
    "def reset_board():\n",
    "    global board, game_state\n",
    "    board = [' '] * 10\n",
    "    game_state = True\n",
    "\n",
    "def display_board(board):\n",
    "    \n",
    "    clear_output()\n",
    "    print('  |   |')\n",
    "    print('  ' + board[7] + ' |' + board[8] + ' |' + board[9] )\n",
    "    print('  |   |')\n",
    "    print('-----------')\n",
    "    print('  ' + board[4] + ' |' + board[5] + ' |' + board[6] )\n",
    "    print('  |   |')\n",
    "    print('-----------')\n",
    "    print('  |   |')\n",
    "    print('  ' + board[1] + ' |' + board[2] + ' |' + board[3] )\n",
    "    print('  |   |')\n",
    "    \n",
    "    \n",
    "def player_input(jogador):"
   ]
  }
 ],
 "metadata": {
  "kernelspec": {
   "display_name": "Python 3",
   "language": "python",
   "name": "python3"
  },
  "language_info": {
   "codemirror_mode": {
    "name": "ipython",
    "version": 3
   },
   "file_extension": ".py",
   "mimetype": "text/x-python",
   "name": "python",
   "nbconvert_exporter": "python",
   "pygments_lexer": "ipython3",
   "version": "3.6.5"
  }
 },
 "nbformat": 4,
 "nbformat_minor": 2
}
