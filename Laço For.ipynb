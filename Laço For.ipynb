{
 "cells": [
  {
   "cell_type": "code",
   "execution_count": 1,
   "metadata": {},
   "outputs": [],
   "source": [
    "l = [1, 2, 3, 4, 5, 6, 7]"
   ]
  },
  {
   "cell_type": "code",
   "execution_count": 4,
   "metadata": {},
   "outputs": [
    {
     "name": "stdout",
     "output_type": "stream",
     "text": [
      "1\n",
      "2\n",
      "3\n",
      "4\n",
      "5\n",
      "6\n",
      "7\n"
     ]
    }
   ],
   "source": [
    "for i in l:\n",
    "    print(i)"
   ]
  },
  {
   "cell_type": "code",
   "execution_count": 7,
   "metadata": {},
   "outputs": [
    {
     "name": "stdout",
     "output_type": "stream",
     "text": [
      "Num x 1: -> 1\n",
      "Num x 2: -> 2\n",
      "Num x 3: -> 3\n",
      "Num x 1: -> 2\n",
      "Num x 2: -> 4\n",
      "Num x 3: -> 6\n",
      "Num x 1: -> 3\n",
      "Num x 2: -> 6\n",
      "Num x 3: -> 9\n",
      "Num x 1: -> 4\n",
      "Num x 2: -> 8\n",
      "Num x 3: -> 12\n",
      "Num x 1: -> 5\n",
      "Num x 2: -> 10\n",
      "Num x 3: -> 15\n",
      "Num x 1: -> 6\n",
      "Num x 2: -> 12\n",
      "Num x 3: -> 18\n",
      "Num x 1: -> 7\n",
      "Num x 2: -> 14\n",
      "Num x 3: -> 21\n"
     ]
    }
   ],
   "source": [
    "for i in l:\n",
    "    print('Num x 1: ->', i)\n",
    "    print('Num x 2: ->', i * 2)\n",
    "    print('Num x 3: ->', i * 3)"
   ]
  },
  {
   "cell_type": "code",
   "execution_count": 8,
   "metadata": {},
   "outputs": [
    {
     "name": "stdout",
     "output_type": "stream",
     "text": [
      "1 é ímpar\n",
      "2 é par\n",
      "3 é ímpar\n",
      "4 é par\n",
      "5 é ímpar\n",
      "6 é par\n",
      "7 é ímpar\n"
     ]
    }
   ],
   "source": [
    "for i in l:\n",
    "    if i % 2 == 0:\n",
    "        print(i,'é par')\n",
    "    else:\n",
    "        print(i,'é ímpar')"
   ]
  },
  {
   "cell_type": "code",
   "execution_count": 9,
   "metadata": {},
   "outputs": [
    {
     "name": "stdout",
     "output_type": "stream",
     "text": [
      "28\n"
     ]
    }
   ],
   "source": [
    "soma = 0\n",
    "for i in l:\n",
    "    soma += i\n",
    "print(soma)"
   ]
  },
  {
   "cell_type": "code",
   "execution_count": 10,
   "metadata": {},
   "outputs": [
    {
     "name": "stdout",
     "output_type": "stream",
     "text": [
      "E\n",
      "u\n",
      " \n",
      "a\n",
      "m\n",
      "o\n",
      " \n",
      "p\n",
      "r\n",
      "o\n",
      "g\n",
      "r\n",
      "a\n",
      "m\n",
      "a\n",
      "ç\n",
      "ã\n",
      "o\n",
      "!\n"
     ]
    }
   ],
   "source": [
    "string = 'Eu amo programação!'\n",
    "\n",
    "for char in string:\n",
    "    print(char)"
   ]
  },
  {
   "cell_type": "code",
   "execution_count": 12,
   "metadata": {},
   "outputs": [
    {
     "name": "stdout",
     "output_type": "stream",
     "text": [
      "1\n",
      "2\n",
      "3\n",
      "4\n",
      "5\n"
     ]
    }
   ],
   "source": [
    "tup = (1, 2, 3, 4, 5)\n",
    "for t in tup:\n",
    "    print(t)"
   ]
  },
  {
   "cell_type": "code",
   "execution_count": 13,
   "metadata": {},
   "outputs": [],
   "source": [
    "l = [(1,2), (2,3), (3,4)]"
   ]
  },
  {
   "cell_type": "code",
   "execution_count": 14,
   "metadata": {},
   "outputs": [
    {
     "data": {
      "text/plain": [
       "tuple"
      ]
     },
     "execution_count": 14,
     "metadata": {},
     "output_type": "execute_result"
    }
   ],
   "source": [
    "type(l[0])"
   ]
  },
  {
   "cell_type": "code",
   "execution_count": 15,
   "metadata": {},
   "outputs": [],
   "source": [
    "(t1, t2) = l[0]"
   ]
  },
  {
   "cell_type": "code",
   "execution_count": 17,
   "metadata": {},
   "outputs": [
    {
     "name": "stdout",
     "output_type": "stream",
     "text": [
      "2\n",
      "6\n",
      "12\n"
     ]
    }
   ],
   "source": [
    "for (t1, t2) in l:\n",
    "    print(t1, t2)"
   ]
  },
  {
   "cell_type": "code",
   "execution_count": 18,
   "metadata": {},
   "outputs": [
    {
     "name": "stdout",
     "output_type": "stream",
     "text": [
      "3\n",
      "5\n",
      "7\n"
     ]
    }
   ],
   "source": [
    "for (t1, t2) in l:\n",
    "    print(t1 + t2)"
   ]
  },
  {
   "cell_type": "code",
   "execution_count": 19,
   "metadata": {},
   "outputs": [
    {
     "name": "stdout",
     "output_type": "stream",
     "text": [
      "1 2\n",
      "2 3\n",
      "3 4\n"
     ]
    }
   ],
   "source": [
    "for (t1, t2) in l:\n",
    "    print(t1, t2)"
   ]
  },
  {
   "cell_type": "code",
   "execution_count": 20,
   "metadata": {},
   "outputs": [],
   "source": [
    "d = {'k1': 1, 'k2': 2, 'k3': 3}"
   ]
  },
  {
   "cell_type": "code",
   "execution_count": 25,
   "metadata": {},
   "outputs": [
    {
     "name": "stdout",
     "output_type": "stream",
     "text": [
      "k1\n",
      "k2\n",
      "k3\n"
     ]
    }
   ],
   "source": [
    "for item in d:\n",
    "    print(item)"
   ]
  },
  {
   "cell_type": "code",
   "execution_count": 27,
   "metadata": {},
   "outputs": [
    {
     "name": "stdout",
     "output_type": "stream",
     "text": [
      "('k1', 1)\n",
      "('k2', 2)\n",
      "('k3', 3)\n"
     ]
    }
   ],
   "source": [
    "for item in d.items():\n",
    "    print(item)"
   ]
  },
  {
   "cell_type": "code",
   "execution_count": 29,
   "metadata": {},
   "outputs": [
    {
     "name": "stdout",
     "output_type": "stream",
     "text": [
      "k1 -> 1\n",
      "k2 -> 2\n",
      "k3 -> 3\n"
     ]
    }
   ],
   "source": [
    "for (key, valor) in d.items():\n",
    "    print(key,'->', valor)"
   ]
  }
 ],
 "metadata": {
  "kernelspec": {
   "display_name": "Python 3",
   "language": "python",
   "name": "python3"
  },
  "language_info": {
   "codemirror_mode": {
    "name": "ipython",
    "version": 3
   },
   "file_extension": ".py",
   "mimetype": "text/x-python",
   "name": "python",
   "nbconvert_exporter": "python",
   "pygments_lexer": "ipython3",
   "version": "3.6.5"
  }
 },
 "nbformat": 4,
 "nbformat_minor": 2
}
